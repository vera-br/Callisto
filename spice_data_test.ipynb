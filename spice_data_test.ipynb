{
 "cells": [
  {
   "cell_type": "code",
   "execution_count": 27,
   "metadata": {},
   "outputs": [],
   "source": [
    "# Load modules\n",
    "\n",
    "import numpy as np\n",
    "import matplotlib.pyplot as plt\n",
    "import datetime"
   ]
  },
  {
   "cell_type": "code",
   "execution_count": 28,
   "metadata": {},
   "outputs": [],
   "source": [
    "# Define functions\n",
    "\n",
    "def cartesian_to_spherical(coords):   \n",
    "    r = np.sqrt(coords[:,0]**2 + coords[:,1]**2 + coords[:,2]**2)\n",
    "    phi = np.sign(coords[:,0]) * np.arccos(coords[:,1] / (np.sqrt(coords[:,0]**2 + coords[:,1]**2)))\n",
    "    # theta = np.nan_to_num(x=theta)    - can use this for nan error if necessary\n",
    "    theta = np.arccos(coords[:,2]/r)\n",
    "    return np.array([r, theta, phi]).transpose()\n",
    "\n",
    "def data_processing(data_path):\n",
    "    # juice to callisto\n",
    "    juice_wrt_callisto = np.loadtxt(data_path, delimiter=\",\", unpack=True)\n",
    "    juice_wrt_callisto = juice_wrt_callisto.transpose()\n",
    "    Xjc, Yjc, Zjc, vxjc, vyjc, vzjc, t = juice_wrt_callisto\n",
    "\n",
    "    # convert positions to m\n",
    "    juice_wrt_callisto_cart = 1e3 * np.array([Xjc, Yjc, Zjc]).transpose()\n",
    "\n",
    "    juice_wrt_callisto_spher = cartesian_to_spherical(juice_wrt_callisto_cart)\n",
    "\n",
    "    return [t, juice_wrt_callisto_cart, juice_wrt_callisto_spher]\n",
    "\n",
    "def CA_info(orbit):\n",
    "    min_index = np.argmin(orbit.transpose()[4])\n",
    "    return orbit[min_index,:]"
   ]
  },
  {
   "cell_type": "code",
   "execution_count": 29,
   "metadata": {},
   "outputs": [
    {
     "name": "stdout",
     "output_type": "stream",
     "text": [
      "['./spice_data/juice_wrt_callisto_C1.csv', './spice_data/juice_wrt_callisto_C2.csv', './spice_data/juice_wrt_callisto_C3.csv', './spice_data/juice_wrt_callisto_C4.csv', './spice_data/juice_wrt_callisto_C5.csv', './spice_data/juice_wrt_callisto_C6.csv', './spice_data/juice_wrt_callisto_C7.csv', './spice_data/juice_wrt_callisto_C8.csv', './spice_data/juice_wrt_callisto_C9.csv', './spice_data/juice_wrt_callisto_C10.csv', './spice_data/juice_wrt_callisto_C11.csv', './spice_data/juice_wrt_callisto_C12.csv', './spice_data/juice_wrt_callisto_C13.csv', './spice_data/juice_wrt_callisto_C14.csv', './spice_data/juice_wrt_callisto_C15.csv', './spice_data/juice_wrt_callisto_C16.csv', './spice_data/juice_wrt_callisto_C17.csv', './spice_data/juice_wrt_callisto_C18.csv', './spice_data/juice_wrt_callisto_C19.csv', './spice_data/juice_wrt_callisto_C20.csv', './spice_data/juice_wrt_callisto_C21.csv']\n"
     ]
    }
   ],
   "source": [
    "### Load in data from SPICE kernels, data loaded in has units km and km/s\n",
    "# data paths\n",
    "data_paths = []\n",
    "data_path = \"./spice_data/juice_wrt_callisto_C\"\n",
    "\n",
    "for i in range(1, 22):\n",
    "    data_paths.append(data_path + str(i) + \".csv\")\n",
    "\n",
    "print(data_paths)"
   ]
  },
  {
   "cell_type": "code",
   "execution_count": 30,
   "metadata": {},
   "outputs": [],
   "source": [
    "#orbit1 = data_processing('./spice_data/juice_wrt_callisto_C1.csv')\n",
    "#orbit1 =  np.asarray(orbit1)\n",
    "#print(orbit1)"
   ]
  },
  {
   "cell_type": "code",
   "execution_count": 31,
   "metadata": {},
   "outputs": [],
   "source": [
    "orbits_all = {}\n",
    "\n",
    "for i in range(len(data_paths)):\n",
    "    t, cart, spher = data_processing(data_paths[i])\n",
    "    z = np.c_[t, cart]\n",
    "    z = np.c_[z, spher]\n",
    "    orbits_all['orbit%s' % (i+1)] = z"
   ]
  },
  {
   "cell_type": "code",
   "execution_count": 32,
   "metadata": {},
   "outputs": [
    {
     "name": "stdout",
     "output_type": "stream",
     "text": [
      "2032-06-20 12:39:18.368790\n",
      "2032-07-28 13:51:18.366700\n",
      "2032-08-14 06:15:18.365900\n",
      "2032-09-10 07:26:18.364980\n",
      "2032-09-27 00:00:18.364720\n",
      "2032-10-13 16:29:18.364720\n",
      "2032-10-30 08:54:18.365000\n",
      "2032-11-16 01:17:18.365530\n",
      "2032-12-02 17:37:18.366260\n",
      "2033-02-24 04:09:18.370610\n",
      "2033-03-12 20:32:18.371080\n",
      "2033-05-10 04:10:18.370690\n",
      "2033-06-04 06:39:18.369650\n",
      "2033-06-20 23:02:18.368780\n",
      "2033-07-07 15:24:18.367850\n",
      "2033-07-24 07:47:18.366930\n",
      "2033-08-10 00:15:18.366110\n",
      "2033-11-01 11:01:18.365050\n",
      "2034-02-14 12:09:18.370210\n",
      "2034-05-01 10:26:18.370950\n",
      "2034-06-23 17:15:18.368650\n"
     ]
    }
   ],
   "source": [
    "i = 1\n",
    "CA_times_utc = []\n",
    "CA_times_utc_min12hr = []\n",
    "for orbit, vector in orbits_all.items():\n",
    "    CA_info_vector = CA_info(vector)\n",
    "    globals()['CA_orbit%s' % (i)] = CA_info_vector\n",
    "    CA_time_utc = datetime.datetime(2000, 1, 1, 12, 0, 0) + datetime.timedelta(seconds=CA_info_vector[0])\n",
    "    CA_time_utc_min12hr = CA_time_utc + datetime.timedelta(hours=-12)\n",
    "    CA_times_utc.append(CA_time_utc)\n",
    "    CA_times_utc_min12hr.append(CA_time_utc_min12hr)\n",
    "\n",
    "    i += 1\n",
    "\n",
    "for times in CA_times_utc_min12hr:\n",
    "    print(times)"
   ]
  },
  {
   "cell_type": "code",
   "execution_count": 36,
   "metadata": {},
   "outputs": [
    {
     "name": "stdout",
     "output_type": "stream",
     "text": [
      "719\n",
      "5968457.500261772\n",
      "63158.36879003048\n",
      "2032-06-21 00:39:18.368790\n"
     ]
    },
    {
     "data": {
      "text/plain": [
       "[<matplotlib.lines.Line2D at 0x2b34a782250>]"
      ]
     },
     "execution_count": 36,
     "metadata": {},
     "output_type": "execute_result"
    },
    {
     "data": {
      "image/png": "[encoded data removed]",
      "text/plain": [
       "<Figure size 640x480 with 1 Axes>"
      ]
     },
     "metadata": {},
     "output_type": "display_data"
    }
   ],
   "source": [
    "orbit1 = orbits_all['orbit1']\n",
    "orbit1 = orbit1.transpose()\n",
    "plt.plot(orbit1[0], orbit1[4])\n",
    "minarg = np.argmin(orbit1[4])\n",
    "print(minarg)\n",
    "mintime = orbit1[0, minarg]\n",
    "CA_i = orbit1.transpose()[minarg,:]\n",
    "print(CA_i[4])\n",
    "print(mintime-1.0246e9)\n",
    "CA_time_utc = datetime.datetime(2000, 1, 1, 12, 0, 0) + datetime.timedelta(seconds=mintime)\n",
    "CA_time_utc_min12hr = CA_time_utc + datetime.timedelta(hours=-12)\n",
    "print(CA_time_utc)\n",
    "plt.plot([mintime,mintime], [0,3e7])\n"
   ]
  },
  {
   "cell_type": "code",
   "execution_count": null,
   "metadata": {},
   "outputs": [],
   "source": []
  }
 ],
 "metadata": {
  "kernelspec": {
   "display_name": "Python 3",
   "language": "python",
   "name": "python3"
  },
  "language_info": {
   "codemirror_mode": {
    "name": "ipython",
    "version": 3
   },
   "file_extension": ".py",
   "mimetype": "text/x-python",
   "name": "python",
   "nbconvert_exporter": "python",
   "pygments_lexer": "ipython3",
   "version": "3.12.0"
  }
 },
 "nbformat": 4,
 "nbformat_minor": 2
}
