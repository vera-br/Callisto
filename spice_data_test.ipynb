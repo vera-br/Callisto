{
 "cells": [
  {
   "cell_type": "code",
   "execution_count": 8,
   "metadata": {},
   "outputs": [],
   "source": [
    "# Load modules\n",
    "\n",
    "import numpy as np\n",
    "import matplotlib.pyplot as plt\n",
    "import datetime"
   ]
  },
  {
   "cell_type": "code",
   "execution_count": 9,
   "metadata": {},
   "outputs": [],
   "source": [
    "# Define functions\n",
    "\n",
    "def cartesian_to_spherical(coords):   \n",
    "    r = np.sqrt(coords[:,0]**2 + coords[:,1]**2 + coords[:,2]**2)\n",
    "    phi = np.sign(coords[:,0]) * np.arccos(coords[:,1] / (np.sqrt(coords[:,0]**2 + coords[:,1]**2)))\n",
    "    # theta = np.nan_to_num(x=theta)    - can use this for nan error if necessary\n",
    "    theta = np.arccos(coords[:,2]/r)\n",
    "    return np.array([r, theta, phi]).transpose()\n",
    "\n",
    "def data_processing(data_path):\n",
    "    # juice to callisto\n",
    "    juice_wrt_callisto = np.loadtxt(data_path, delimiter=\",\", unpack=True)\n",
    "    juice_wrt_callisto = juice_wrt_callisto.transpose()\n",
    "    Xjc, Yjc, Zjc, vxjc, vyjc, vzjc, t = juice_wrt_callisto\n",
    "\n",
    "    # convert positions to m\n",
    "    juice_wrt_callisto_cart = 1e3 * np.array([Xjc, Yjc, Zjc]).transpose()\n",
    "\n",
    "    juice_wrt_callisto_spher = cartesian_to_spherical(juice_wrt_callisto_cart)\n",
    "\n",
    "    return [t, juice_wrt_callisto_cart, juice_wrt_callisto_spher]\n",
    "\n",
    "def CA_info(orbit):\n",
    "    min_index = np.argmin(orbit[4])\n",
    "    return np.transpose(orbit)[min_index,:]"
   ]
  },
  {
   "cell_type": "code",
   "execution_count": 10,
   "metadata": {},
   "outputs": [
    {
     "name": "stdout",
     "output_type": "stream",
     "text": [
      "['./spice_data/callisto_wrt_jupiter_cphio_J1.csv', './spice_data/callisto_wrt_jupiter_cphio_J2.csv', './spice_data/callisto_wrt_jupiter_cphio_J3.csv', './spice_data/callisto_wrt_jupiter_cphio_J4.csv', './spice_data/callisto_wrt_jupiter_cphio_J5.csv', './spice_data/callisto_wrt_jupiter_cphio_J6.csv', './spice_data/callisto_wrt_jupiter_cphio_J7.csv', './spice_data/callisto_wrt_jupiter_cphio_J8.csv', './spice_data/callisto_wrt_jupiter_cphio_J9.csv', './spice_data/callisto_wrt_jupiter_cphio_J10.csv', './spice_data/callisto_wrt_jupiter_cphio_J11.csv', './spice_data/callisto_wrt_jupiter_cphio_J12.csv', './spice_data/callisto_wrt_jupiter_cphio_J13.csv', './spice_data/callisto_wrt_jupiter_cphio_J14.csv', './spice_data/callisto_wrt_jupiter_cphio_J15.csv', './spice_data/callisto_wrt_jupiter_cphio_J16.csv', './spice_data/callisto_wrt_jupiter_cphio_J17.csv', './spice_data/callisto_wrt_jupiter_cphio_J18.csv', './spice_data/callisto_wrt_jupiter_cphio_J19.csv', './spice_data/callisto_wrt_jupiter_cphio_J20.csv', './spice_data/callisto_wrt_jupiter_cphio_J21.csv']\n"
     ]
    }
   ],
   "source": [
    "### Load in data from SPICE kernels, data loaded in has units km and km/s\n",
    "# data paths\n",
    "data_paths = []\n",
    "data_path = \"./spice_data/callisto_wrt_jupiter_cphio_J\"\n",
    "\n",
    "for i in range(1, 22):\n",
    "    data_paths.append(data_path + str(i) + \".csv\")\n",
    "\n",
    "print(data_paths)"
   ]
  },
  {
   "cell_type": "code",
   "execution_count": 11,
   "metadata": {},
   "outputs": [],
   "source": [
    "#orbit1 = data_processing('./spice_data/juice_wrt_callisto_C1.csv')\n",
    "#orbit1 =  np.asarray(orbit1)\n",
    "#print(orbit1)"
   ]
  },
  {
   "cell_type": "code",
   "execution_count": 12,
   "metadata": {},
   "outputs": [],
   "source": [
    "orbits_all = {}\n",
    "\n",
    "for i in range(len(data_paths)):\n",
    "    t, cart, spher = data_processing(data_paths[i])\n",
    "    z = np.c_[t, cart]\n",
    "    z = np.c_[z, spher]\n",
    "    orbits_all['orbit%s' % (i+1)] = np.transpose(z)"
   ]
  },
  {
   "cell_type": "code",
   "execution_count": 13,
   "metadata": {},
   "outputs": [
    {
     "name": "stdout",
     "output_type": "stream",
     "text": [
      "2032-06-21 00:40:18.368780\n",
      "2032-07-28 01:52:18.366680\n",
      "2032-08-13 18:16:18.365890\n",
      "2032-09-10 19:27:18.364980\n",
      "2032-09-27 12:02:18.364720\n",
      "2032-10-14 04:31:18.364720\n",
      "2032-10-30 20:55:18.365000\n",
      "2032-11-16 13:18:18.365540\n",
      "2032-12-03 05:39:18.366280\n",
      "2033-02-24 16:10:18.370620\n",
      "2033-03-13 08:33:18.371080\n",
      "2033-05-09 16:11:18.370680\n",
      "2033-06-04 18:40:18.369640\n",
      "2033-06-21 11:03:18.368760\n",
      "2033-07-08 03:26:18.367840\n",
      "2033-07-24 19:48:18.366920\n",
      "2033-08-10 12:16:18.366090\n",
      "2033-11-01 23:02:18.365060\n",
      "2034-02-14 16:44:18.370220\n",
      "2034-05-01 22:27:18.370940\n",
      "2034-06-24 05:17:18.368630\n"
     ]
    }
   ],
   "source": [
    "i = 1\n",
    "CA_times_utc = []\n",
    "CA_times_utc_min12hr = []\n",
    "for orbit, vector in orbits_all.items():\n",
    "    CA_info_vector = CA_info(vector)\n",
    "    globals()['CA_orbit%s' % (i)] = CA_info_vector\n",
    "    CA_time_utc = datetime.datetime(2000, 1, 1, 12, 0, 0) + datetime.timedelta(seconds=CA_info_vector[0])\n",
    "    CA_time_utc_min12hr = CA_time_utc + datetime.timedelta(hours=-12)\n",
    "    CA_times_utc.append(CA_time_utc)\n",
    "    CA_times_utc_min12hr.append(CA_time_utc_min12hr)\n",
    "\n",
    "    i += 1\n",
    "\n",
    "for times in CA_times_utc_min12hr:\n",
    "    print(times)"
   ]
  },
  {
   "cell_type": "code",
   "execution_count": 28,
   "metadata": {},
   "outputs": [
    {
     "name": "stdout",
     "output_type": "stream",
     "text": [
      "1440\n",
      "1876067626.4043999\n",
      "106418.3687800169\n",
      "2032-06-21 12:40:18.368780\n"
     ]
    },
    {
     "data": {
      "text/plain": [
       "[<matplotlib.lines.Line2D at 0x2489ff0aa10>]"
      ]
     },
     "execution_count": 28,
     "metadata": {},
     "output_type": "execute_result"
    },
    {
     "data": {
      "image/png": "[encoded data removed]",
      "text/plain": [
       "<Figure size 640x480 with 1 Axes>"
      ]
     },
     "metadata": {},
     "output_type": "display_data"
    }
   ],
   "source": [
    "orbit1 = orbits_all['orbit1']\n",
    "plt.plot(orbit1[0], orbit1[4])\n",
    "minarg = np.argmin(orbit1[4])\n",
    "print(minarg)\n",
    "mintime = orbit1[0, minarg]\n",
    "CA_i = orbit1.transpose()[minarg,:]\n",
    "print(CA_i[4])\n",
    "print(mintime-1.0246e9)\n",
    "CA_time_utc = datetime.datetime(2000, 1, 1, 12, 0, 0) + datetime.timedelta(seconds=mintime)\n",
    "CA_time_utc_min12hr = CA_time_utc + datetime.timedelta(hours=-12)\n",
    "print(CA_time_utc)\n",
    "plt.plot([mintime,mintime], [0.999*orbit1[4, minarg],1.001*orbit1[4, minarg]])\n"
   ]
  },
  {
   "cell_type": "code",
   "execution_count": null,
   "metadata": {},
   "outputs": [],
   "source": []
  }
 ],
 "metadata": {
  "kernelspec": {
   "display_name": "Python 3",
   "language": "python",
   "name": "python3"
  },
  "language_info": {
   "codemirror_mode": {
    "name": "ipython",
    "version": 3
   },
   "file_extension": ".py",
   "mimetype": "text/x-python",
   "name": "python",
   "nbconvert_exporter": "python",
   "pygments_lexer": "ipython3",
   "version": "3.11.1"
  }
 },
 "nbformat": 4,
 "nbformat_minor": 2
}
