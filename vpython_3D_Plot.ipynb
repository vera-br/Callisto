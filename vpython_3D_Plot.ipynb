{
 "cells": [
  {
   "cell_type": "code",
   "execution_count": 1,
   "metadata": {},
   "outputs": [
    {
     "data": {
      "text/html": [
       "<div id=\"glowscript\" class=\"glowscript\"></div>"
      ],
      "text/plain": [
       "<IPython.core.display.HTML object>"
      ]
     },
     "metadata": {},
     "output_type": "display_data"
    },
    {
     "data": {
      "application/javascript": "if (typeof Jupyter !== \"undefined\") { window.__context = { glowscript_container: $(\"#glowscript\").removeAttr(\"id\")};}else{ element.textContent = ' ';}",
      "text/plain": [
       "<IPython.core.display.Javascript object>"
      ]
     },
     "metadata": {},
     "output_type": "display_data"
    },
    {
     "data": {
      "text/html": [
       "<div id=\"glowscript\" class=\"glowscript\"></div>"
      ],
      "text/plain": [
       "<IPython.core.display.HTML object>"
      ]
     },
     "metadata": {},
     "output_type": "display_data"
    },
    {
     "data": {
      "application/javascript": "if (typeof Jupyter !== \"undefined\") { window.__context = { glowscript_container: $(\"#glowscript\").removeAttr(\"id\")};}else{ element.textContent = ' ';}",
      "text/plain": [
       "<IPython.core.display.Javascript object>"
      ]
     },
     "metadata": {},
     "output_type": "display_data"
    },
    {
     "data": {
      "application/javascript": "if (typeof Jupyter !== \"undefined\") {require.undef(\"nbextensions/vpython_libraries/glow.min\");}else{element.textContent = ' ';}",
      "text/plain": [
       "<IPython.core.display.Javascript object>"
      ]
     },
     "metadata": {},
     "output_type": "display_data"
    },
    {
     "data": {
      "application/javascript": "if (typeof Jupyter !== \"undefined\") {require.undef(\"nbextensions/vpython_libraries/glowcomm\");}else{element.textContent = ' ';}",
      "text/plain": [
       "<IPython.core.display.Javascript object>"
      ]
     },
     "metadata": {},
     "output_type": "display_data"
    },
    {
     "data": {
      "application/javascript": "if (typeof Jupyter !== \"undefined\") {require.undef(\"nbextensions/vpython_libraries/jquery-ui.custom.min\");}else{element.textContent = ' ';}",
      "text/plain": [
       "<IPython.core.display.Javascript object>"
      ]
     },
     "metadata": {},
     "output_type": "display_data"
    },
    {
     "data": {
      "application/javascript": "if (typeof Jupyter !== \"undefined\") {require([\"nbextensions/vpython_libraries/glow.min\"], function(){console.log(\"GLOW LOADED\");});}else{element.textContent = ' ';}",
      "text/plain": [
       "<IPython.core.display.Javascript object>"
      ]
     },
     "metadata": {},
     "output_type": "display_data"
    },
    {
     "data": {
      "application/javascript": "if (typeof Jupyter !== \"undefined\") {require([\"nbextensions/vpython_libraries/glowcomm\"], function(){console.log(\"GLOWCOMM LOADED\");});}else{element.textContent = ' ';}",
      "text/plain": [
       "<IPython.core.display.Javascript object>"
      ]
     },
     "metadata": {},
     "output_type": "display_data"
    },
    {
     "data": {
      "application/javascript": "if (typeof Jupyter !== \"undefined\") {require([\"nbextensions/vpython_libraries/jquery-ui.custom.min\"], function(){console.log(\"JQUERY LOADED\");});}else{element.textContent = ' ';}",
      "text/plain": [
       "<IPython.core.display.Javascript object>"
      ]
     },
     "metadata": {},
     "output_type": "display_data"
    }
   ],
   "source": [
    "import vpython as vp\n",
    "import numpy as np\n",
    "from mayavi import mlab\n",
    "from functions import *\n",
    "\n",
    "\n",
    "def plot_3D_VPython(vector, colour):\n",
    "    c = vp.curve(color=colour, emissive=True, shininess=0)\n",
    "    for j in range(len(vector[0])):\n",
    "        vector_j = vp.vector(vector[0][j], vector[1][j], vector[2][j])\n",
    "        c.append(vector_j)\n",
    "\n",
    "colours_x = [1, 1, 1, 1, 6/7, 4/7, 2/7, 0, 0, 0, 0, 0, 0, 0, 0, 2/7, 4/7, 6/7, 1, 1, 1]\n",
    "colours_y = [0, 2/7, 4/7, 6/7, 1, 1, 1, 1, 1, 1, 1, 6/7, 4/7, 2/7, 0, 0, 0, 0, 0, 0, 0]\n",
    "colours_z = [0, 0, 0, 0, 0, 0, 0, 0, 2/7, 4/7, 6/7, 1, 1, 1, 1, 1, 1, 1, 6/7, 4/7, 2/7]\n",
    "colours = np.array([colours_x, colours_y, colours_z])\n",
    "colours = np.transpose(colours)\n",
    "\n",
    "# load orbit data\n",
    "Juice = get_spice_data('juice', 'callisto', 'cphio')\n",
    "\n",
    "common_lim = 10\n",
    "\n",
    "scene = vp.canvas(background=vp.color.white, autoscale=False, forward=vp.vector(1,1,-1), up=vp.vector(0,0,1))\n",
    "\n",
    "i=0\n",
    "for name, vector in Juice.items():\n",
    "    vector = vector[1:5] / R_C\n",
    "    x = vector[0] ; y = vector[1] ; z = vector[2] ; r = vector[3]\n",
    "    xyz = vector[0:3]\n",
    "    j = 0\n",
    "    while abs(x[j]) > common_lim or abs(y[j]) > common_lim or abs(z[j]) > common_lim:\n",
    "        j += 1\n",
    "\n",
    "    k = j ; end_loop = False\n",
    "    while abs(x[k]) < common_lim and abs(y[k]) < common_lim and abs(z[k]) < common_lim and end_loop == False:\n",
    "        if k < len(r) - 1:\n",
    "            k += 1\n",
    "        else:\n",
    "            end_loop = True\n",
    "\n",
    "    xyz = xyz[:, j:k]\n",
    "\n",
    "    colour = vp.vector(colours[i][0], colours[i][1], colours[i][2])\n",
    "    i += 1\n",
    "\n",
    "    plot_3D_VPython(xyz, colour)\n",
    "\n",
    "Callisto = vp.sphere(pos=vp.vector(0,0,0), color=vp.color.black, radius=1, shininess=0)\n",
    "\n",
    "cl = common_lim\n",
    "'''\n",
    "origin = vp.vector(-common_lim, -common_lim, -common_lim)\n",
    "v_xaxis = vp.vector( common_lim, -common_lim, -common_lim)\n",
    "v_yaxis = vp.vector(-common_lim,  common_lim, -common_lim)\n",
    "v_zaxis = vp.vector(-common_lim, -common_lim,  common_lim)\n",
    "xaxis = vp.curve(pos=[origin, v_xaxis], color=vp.color.black)\n",
    "yaxis = vp.curve(pos=[origin, v_yaxis], color=vp.color.black)\n",
    "zaxis = vp.curve(pos=[origin, v_zaxis], color=vp.color.black)\n",
    "'''\n",
    "boxtop = vp.curve(pos=[vp.vector(cl, cl, cl), vp.vector(-cl, cl, cl), vp.vector(-cl, -cl, cl), vp.vector(cl, -cl, cl), vp.vector(cl, cl, cl)], color=vp.color.black, radius=0.05, opacity=0.5, shininess=0)\n",
    "boxbot = vp.curve(pos=[vp.vector(cl, cl, -cl), vp.vector(-cl, cl, -cl), vp.vector(-cl, -cl, -cl), vp.vector(cl, -cl, -cl), vp.vector(cl, cl, -cl)], color=vp.color.black, radius=0.05, opacity=0.5, shininess=0)\n",
    "boxside1 = vp.curve(pos=[vp.vector(cl, cl, cl), vp.vector(-cl, cl, cl), vp.vector(-cl, cl, -cl), vp.vector(cl, cl, -cl), vp.vector(cl, cl, cl)], color=vp.color.black, radius=0.05, opacity=0.5, shininess=0)\n",
    "boxside2 = vp.curve(pos=[vp.vector(cl, -cl, cl), vp.vector(-cl, -cl, cl), vp.vector(-cl, -cl, -cl), vp.vector(cl, -cl, -cl), vp.vector(cl, -cl, cl)], color=vp.color.black, radius=0.05, opacity=0.5, shininess=0)\n",
    "\n",
    "#xpointer = vp.arrow(pos=vp.vector(cl,-cl,-cl), axis=vp.vector(1,0,0), headwidth=0.5, headlength=0.5, shaftwidth=0.05, color=vp.color.black, round=True, shininess=0)\n",
    "#ypointer = vp.arrow(pos=vp.vector(-cl,cl,-cl), axis=vp.vector(0,1,0), headwidth=0.5, headlength=0.5, shaftwidth=0.05, color=vp.color.black, round=True, shininess=0)\n",
    "#zpointer = vp.arrow(pos=vp.vector(-cl,-cl,cl), axis=vp.vector(0,0,1), headwidth=0.5, headlength=0.5, shaftwidth=0.05, color=vp.color.black, round=True, shininess=0)\n",
    "\n",
    "xaxislabel = vp.text(pos=vp.vector( 0, -cl-3, -cl), text='x', depth=0, billboard=True, align='centre', color=vp.color.black, shininess=0)\n",
    "xlabelmax = vp.text(pos=vp.vector( cl, -cl-1, -cl), text='%s'%(cl), depth=0, billboard=True, align='centre', color=vp.color.black, shininess=0)\n",
    "xlabelmin = vp.text(pos=vp.vector( -cl, -cl-1, -cl), text='%s'%(-cl), depth=0, billboard=True, align='centre', color=vp.color.black, shininess=0)\n",
    "xlabel0 = xlabelmax = vp.text(pos=vp.vector( 0, -cl-1, -cl), text='0', depth=0, billboard=True, align='centre', color=vp.color.black, shininess=0)\n",
    "\n",
    "yaxislabel = vp.text(pos=vp.vector( -cl-3, 0, -cl), text='y', depth=0, billboard=True, align='centre', color=vp.color.black, shininess=0)\n",
    "ylabelmax = vp.text(pos=vp.vector( -cl-1, cl, -cl), text='%s'%(cl), depth=0, billboard=True, align='centre', color=vp.color.black, shininess=0)\n",
    "ylabelmin = vp.text(pos=vp.vector( -cl-1, -cl, -cl), text='%s'%(-cl), depth=0, billboard=True, align='centre', color=vp.color.black, shininess=0)\n",
    "ylabel0 = vp.text(pos=vp.vector( -cl-1, 0, -cl), text='0', depth=0, billboard=True, align='centre', color=vp.color.black, shininess=0)\n",
    "\n",
    "zaxislabel = vp.text(pos=vp.vector( -cl-((3**2)/2)**0.5, cl + ((3**2)/2)**0.5, 0), text='z', depth=0, billboard=True, align='centre', color=vp.color.black, shininess=0)\n",
    "zlabelmax = vp.text(pos=vp.vector( -cl-1, cl+1, cl), text='%s'%(cl), depth=0, billboard=True, align='centre', color=vp.color.black, shininess=0)\n",
    "zlabelmin = vp.text(pos=vp.vector( -cl-1, cl+1, -cl), text='%s'%(-cl), depth=0, billboard=True, align='centre', color=vp.color.black, shininess=0)\n",
    "zlabel0 = vp.text(pos=vp.vector( -cl-1, cl+1, 0), text='0', depth=0, billboard=True, align='centre', color=vp.color.black, shininess=0)"
   ]
  },
  {
   "cell_type": "code",
   "execution_count": null,
   "metadata": {
    "scrolled": true
   },
   "outputs": [],
   "source": []
  },
  {
   "cell_type": "code",
   "execution_count": null,
   "metadata": {},
   "outputs": [],
   "source": []
  }
 ],
 "metadata": {
  "kernelspec": {
   "display_name": "Python 3 (ipykernel)",
   "language": "python",
   "name": "python3"
  },
  "language_info": {
   "codemirror_mode": {
    "name": "ipython",
    "version": 3
   },
   "file_extension": ".py",
   "mimetype": "text/x-python",
   "name": "python",
   "nbconvert_exporter": "python",
   "pygments_lexer": "ipython3",
   "version": "3.10.11"
  }
 },
 "nbformat": 4,
 "nbformat_minor": 2
}
