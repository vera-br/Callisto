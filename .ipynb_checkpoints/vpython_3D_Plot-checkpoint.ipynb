{
 "cells": [
  {
   "cell_type": "code",
   "execution_count": 3,
   "metadata": {},
   "outputs": [
    {
     "data": {
      "text/html": [
       "<div id=\"glowscript\" class=\"glowscript\"></div>"
      ],
      "text/plain": [
       "<IPython.core.display.HTML object>"
      ]
     },
     "metadata": {},
     "output_type": "display_data"
    },
    {
     "data": {
      "application/javascript": [
       "if (typeof Jupyter !== \"undefined\") { window.__context = { glowscript_container: $(\"#glowscript\").removeAttr(\"id\")};}else{ element.textContent = ' ';}"
      ],
      "text/plain": [
       "<IPython.core.display.Javascript object>"
      ]
     },
     "metadata": {},
     "output_type": "display_data"
    },
    {
     "ename": "AttributeError",
     "evalue": "Point information must be a vector or a dictionary",
     "output_type": "error",
     "traceback": [
      "\u001b[1;31m---------------------------------------------------------------------------\u001b[0m",
      "\u001b[1;31mAttributeError\u001b[0m                            Traceback (most recent call last)",
      "Cell \u001b[1;32mIn[3], line 15\u001b[0m\n\u001b[0;32m     11\u001b[0m vector \u001b[38;5;241m=\u001b[39m Juice[\u001b[38;5;124m'\u001b[39m\u001b[38;5;124morbit1\u001b[39m\u001b[38;5;124m'\u001b[39m][\u001b[38;5;241m1\u001b[39m:\u001b[38;5;241m4\u001b[39m]\n\u001b[0;32m     13\u001b[0m vector \u001b[38;5;241m=\u001b[39m np\u001b[38;5;241m.\u001b[39mtranspose(vector \u001b[38;5;241m/\u001b[39m R_C)\n\u001b[1;32m---> 15\u001b[0m c \u001b[38;5;241m=\u001b[39m \u001b[43mvp\u001b[49m\u001b[38;5;241;43m.\u001b[39;49m\u001b[43mcurve\u001b[49m\u001b[43m(\u001b[49m\u001b[43mpos\u001b[49m\u001b[38;5;241;43m=\u001b[39;49m\u001b[43mvector\u001b[49m\u001b[43m)\u001b[49m\n",
      "File \u001b[1;32m~\\VEnv1\\lib\\site-packages\\vpython\\vpython.py:2037\u001b[0m, in \u001b[0;36mcurve.__init__\u001b[1;34m(self, *args1, **args)\u001b[0m\n\u001b[0;32m   2035\u001b[0m \u001b[38;5;28;01mif\u001b[39;00m tpos \u001b[38;5;129;01mis\u001b[39;00m \u001b[38;5;129;01mnot\u001b[39;00m \u001b[38;5;28;01mNone\u001b[39;00m:\n\u001b[0;32m   2036\u001b[0m     \u001b[38;5;28;01mif\u001b[39;00m \u001b[38;5;28mlen\u001b[39m(args1) \u001b[38;5;241m>\u001b[39m \u001b[38;5;241m0\u001b[39m: \u001b[38;5;28;01mraise\u001b[39;00m \u001b[38;5;167;01mAttributeError\u001b[39;00m(\u001b[38;5;124m'\u001b[39m\u001b[38;5;124mMalformed constructor\u001b[39m\u001b[38;5;124m'\u001b[39m)\n\u001b[1;32m-> 2037\u001b[0m     \u001b[38;5;28;43mself\u001b[39;49m\u001b[38;5;241;43m.\u001b[39;49m\u001b[43mappend\u001b[49m\u001b[43m(\u001b[49m\u001b[43mtpos\u001b[49m\u001b[43m)\u001b[49m\n\u001b[0;32m   2038\u001b[0m \u001b[38;5;28;01mif\u001b[39;00m \u001b[38;5;28mlen\u001b[39m(args1) \u001b[38;5;241m>\u001b[39m \u001b[38;5;241m0\u001b[39m:\n\u001b[0;32m   2039\u001b[0m     \u001b[38;5;28mself\u001b[39m\u001b[38;5;241m.\u001b[39mappend(\u001b[38;5;241m*\u001b[39margs1, color\u001b[38;5;241m=\u001b[39m\u001b[38;5;28mself\u001b[39m\u001b[38;5;241m.\u001b[39mcolor, radius\u001b[38;5;241m=\u001b[39m\u001b[38;5;28mself\u001b[39m\u001b[38;5;241m.\u001b[39mradius, visible\u001b[38;5;241m=\u001b[39m\u001b[38;5;28mself\u001b[39m\u001b[38;5;241m.\u001b[39mvisible)\n",
      "File \u001b[1;32m~\\VEnv1\\lib\\site-packages\\vpython\\vpython.py:1893\u001b[0m, in \u001b[0;36mcurveMethods.append\u001b[1;34m(self, *args1, **args)\u001b[0m\n\u001b[0;32m   1892\u001b[0m \u001b[38;5;28;01mdef\u001b[39;00m \u001b[38;5;21mappend\u001b[39m(\u001b[38;5;28mself\u001b[39m, \u001b[38;5;241m*\u001b[39margs1, \u001b[38;5;241m*\u001b[39m\u001b[38;5;241m*\u001b[39margs):\n\u001b[1;32m-> 1893\u001b[0m     pts, cps \u001b[38;5;241m=\u001b[39m \u001b[38;5;28mself\u001b[39m\u001b[38;5;241m.\u001b[39mprocess_args(\u001b[38;5;241m*\u001b[39margs1, \u001b[38;5;241m*\u001b[39m\u001b[38;5;241m*\u001b[39margs)\n\u001b[0;32m   1894\u001b[0m     \u001b[38;5;28mself\u001b[39m\u001b[38;5;241m.\u001b[39m_pts\u001b[38;5;241m.\u001b[39mextend(pts)\n\u001b[0;32m   1895\u001b[0m     \u001b[38;5;28mself\u001b[39m\u001b[38;5;241m.\u001b[39mappendcmd({\u001b[38;5;124m\"\u001b[39m\u001b[38;5;124mval\u001b[39m\u001b[38;5;124m\"\u001b[39m:cps[:],\u001b[38;5;124m\"\u001b[39m\u001b[38;5;124mmethod\u001b[39m\u001b[38;5;124m\"\u001b[39m:\u001b[38;5;124m\"\u001b[39m\u001b[38;5;124mappend\u001b[39m\u001b[38;5;124m\"\u001b[39m,\u001b[38;5;124m\"\u001b[39m\u001b[38;5;124midx\u001b[39m\u001b[38;5;124m\"\u001b[39m:\u001b[38;5;28mself\u001b[39m\u001b[38;5;241m.\u001b[39midx})\n",
      "File \u001b[1;32m~\\VEnv1\\lib\\site-packages\\vpython\\vpython.py:1833\u001b[0m, in \u001b[0;36mcurveMethods.process_args\u001b[1;34m(self, *args1, **args)\u001b[0m\n\u001b[0;32m   1831\u001b[0m \u001b[38;5;28;01mif\u001b[39;00m \u001b[38;5;28mlen\u001b[39m(args1) \u001b[38;5;241m>\u001b[39m \u001b[38;5;241m0\u001b[39m:\n\u001b[0;32m   1832\u001b[0m     \u001b[38;5;28;01mif\u001b[39;00m \u001b[38;5;28mlen\u001b[39m(args1) \u001b[38;5;241m==\u001b[39m \u001b[38;5;241m1\u001b[39m:\n\u001b[1;32m-> 1833\u001b[0m         tpos \u001b[38;5;241m=\u001b[39m \u001b[38;5;28;43mself\u001b[39;49m\u001b[38;5;241;43m.\u001b[39;49m\u001b[43mparse_pos\u001b[49m\u001b[43m(\u001b[49m\u001b[43margs1\u001b[49m\u001b[43m[\u001b[49m\u001b[38;5;241;43m0\u001b[39;49m\u001b[43m]\u001b[49m\u001b[43m)\u001b[49m\n\u001b[0;32m   1834\u001b[0m     \u001b[38;5;28;01melse\u001b[39;00m:  \u001b[38;5;66;03m## avoid nested tuples\u001b[39;00m\n\u001b[0;32m   1835\u001b[0m         tlist \u001b[38;5;241m=\u001b[39m \u001b[38;5;28mlist\u001b[39m(args1)\n",
      "File \u001b[1;32m~\\VEnv1\\lib\\site-packages\\vpython\\vpython.py:1887\u001b[0m, in \u001b[0;36mcurveMethods.parse_pos\u001b[1;34m(self, *vars)\u001b[0m\n\u001b[0;32m   1885\u001b[0m \u001b[38;5;28;01melse\u001b[39;00m:\n\u001b[0;32m   1886\u001b[0m     \u001b[38;5;28;01mif\u001b[39;00m \u001b[38;5;129;01mnot\u001b[39;00m \u001b[38;5;28mself\u001b[39m\u001b[38;5;241m.\u001b[39m_constructing:\n\u001b[1;32m-> 1887\u001b[0m         \u001b[38;5;28;01mraise\u001b[39;00m \u001b[38;5;167;01mAttributeError\u001b[39;00m(\u001b[38;5;124m\"\u001b[39m\u001b[38;5;124mPoint information must be a vector or a dictionary\u001b[39m\u001b[38;5;124m\"\u001b[39m)\n\u001b[0;32m   1888\u001b[0m     \u001b[38;5;28;01melse\u001b[39;00m:\n\u001b[0;32m   1889\u001b[0m         \u001b[38;5;28;01mraise\u001b[39;00m \u001b[38;5;167;01mAttributeError\u001b[39;00m(\u001b[38;5;124m\"\u001b[39m\u001b[38;5;124mPoint pos must be a vector\u001b[39m\u001b[38;5;124m\"\u001b[39m)\n",
      "\u001b[1;31mAttributeError\u001b[0m: Point information must be a vector or a dictionary"
     ]
    }
   ],
   "source": [
    "import vpython as vp\n",
    "import numpy as np\n",
    "from mayavi import mlab\n",
    "from functions import *\n",
    "\n",
    "scene = vp.canvas()\n",
    "\n",
    "# load orbit data\n",
    "Juice = get_spice_data('juice', 'callisto', 'cphio')\n",
    "\n",
    "vector = Juice['orbit1'][1:4]\n",
    "\n",
    "vector = vector / R_C\n",
    "\n",
    "c = vp.curve(pos=vector)\n",
    "\n",
    "\n",
    "\n"
   ]
  },
  {
   "cell_type": "code",
   "execution_count": null,
   "metadata": {},
   "outputs": [],
   "source": [
    "\n",
    "# 3D plotting section\n",
    "\n",
    "common_lim = 10\n",
    "\n",
    "# Make background white.\n",
    "mlab.figure(bgcolor=(1, 1, 1))  \n",
    "\n",
    "# Draws transparent pipe spanning the desired size for the axes because otherwise axes only stretch to span the last plotted thing\n",
    "axis = [-common_lim, common_lim]\n",
    "axis = mlab.plot3d(axis, axis, axis, opacity=0, line_width=0.01, tube_radius=0.1, color=(1,1,1))\n",
    "\n",
    "# Draws the axes\n",
    "axes = mlab.axes(color=(0, 0, 0), ranges=(-common_lim, common_lim, -common_lim, common_lim, -common_lim, common_lim), nb_labels=5)\n",
    "\n",
    "axes.title_text_property.color = (0.0, 0.0, 0.0)\n",
    "axes.title_text_property.font_family = 'times'\n",
    "\n",
    "axes.label_text_property.color = (0.0, 0.0, 0.0)\n",
    "axes.label_text_property.font_family = 'times'\n",
    "\n",
    "axes.axes.font_factor = 1.0\n",
    "\n",
    "mlab.outline(color=(0, 0, 0))\n",
    "\n",
    "# plots sphere of specified radius\n",
    "radius = 1\n",
    "sphere = mlab.points3d(0,0,0, color=(0,0,0), resolution=256, scale_factor=2*radius)\n",
    "\n",
    "# defines 21 equally spaced colours around edge of colour wheel\n",
    "colors_x = [1, 1, 1, 1, 6/7, 4/7, 2/7, 0, 0, 0, 0, 0, 0, 0, 0, 2/7, 4/7, 6/7, 1, 1, 1]\n",
    "colors_y = [0, 2/7, 4/7, 6/7, 1, 1, 1, 1, 1, 1, 1, 6/7, 4/7, 2/7, 0, 0, 0, 0, 0, 0, 0]\n",
    "colors_z = [0, 0, 0, 0, 0, 0, 0, 0, 2/7, 4/7, 6/7, 1, 1, 1, 1, 1, 1, 1, 6/7, 4/7, 2/7]\n",
    "colors = np.array([colors_x, colors_y, colors_z])\n",
    "colors = np.transpose(colors)\n",
    "\n",
    "# plots all 21 orbits\n",
    "i = 0\n",
    "for orbit, vector in Juice.items():\n",
    "    x = vector[1] / R_C ; y = vector[2] / R_C ; z = vector[3] / R_C ; r = vector[4] / R_C\n",
    "    \n",
    "    # limiting coordinates to be inside the axes\n",
    "    j = 0\n",
    "    while abs(x[j]) > common_lim or abs(y[j]) > common_lim or abs(z[j]) > common_lim:\n",
    "        j += 1\n",
    "\n",
    "    k = j ; end_loop = False\n",
    "    while abs(x[k]) < common_lim and abs(y[k]) < common_lim and abs(z[k]) < common_lim and end_loop == False:\n",
    "        if k < len(r) - 1:\n",
    "            k += 1\n",
    "        else:\n",
    "            end_loop = True\n",
    "\n",
    "    x = x[j:k] ; y = y[j:k] ; z = z[j:k]\n",
    "\n",
    "    # plotting the trajectories as tubes\n",
    "    trajectory = mlab.plot3d(x, y, z,line_width=0.01, tube_radius=0.1, color=(colors[i][0], colors[i][1], colors[i][2]))\n",
    "    i += 1\n",
    "\n",
    "# makes size of objects independent from distance from the camera position\n",
    "mlab.gcf().scene.parallel_projection = True  # Source: <<https://stackoverflow.com/a/32531283/2729627>>.\n",
    "# switches on axes orientation indicator\n",
    "mlab.orientation_axes()  # Source: <<https://stackoverflow.com/a/26036154/2729627>>.\n",
    "# shows plot\n",
    "mlab.show()\n"
   ]
  }
 ],
 "metadata": {
  "kernelspec": {
   "display_name": "Python 3 (ipykernel)",
   "language": "python",
   "name": "python3"
  },
  "language_info": {
   "codemirror_mode": {
    "name": "ipython",
    "version": 3
   },
   "file_extension": ".py",
   "mimetype": "text/x-python",
   "name": "python",
   "nbconvert_exporter": "python",
   "pygments_lexer": "ipython3",
   "version": "3.10.11"
  }
 },
 "nbformat": 4,
 "nbformat_minor": 2
}
